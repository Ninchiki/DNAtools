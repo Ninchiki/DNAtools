{
 "cells": [
  {
   "cell_type": "code",
   "execution_count": 2,
   "id": "portable-litigation",
   "metadata": {},
   "outputs": [],
   "source": [
    "import random\n",
    "import collections"
   ]
  },
  {
   "cell_type": "markdown",
   "id": "passing-utility",
   "metadata": {},
   "source": [
    "## Validate sequence"
   ]
  },
  {
   "cell_type": "code",
   "execution_count": 3,
   "id": "impressed-estimate",
   "metadata": {},
   "outputs": [],
   "source": [
    "Nucleotides = ['A', 'C', 'G', 'T']\n",
    "\n",
    "def validateSeq(dna_seq):\n",
    "    tmpseq = dna_seq.upper()\n",
    "    for nuc in tmpseq:\n",
    "        if nuc not in Nucleotides:\n",
    "            return False\n",
    "    return tmpseq"
   ]
  },
  {
   "cell_type": "code",
   "execution_count": 4,
   "id": "described-tunisia",
   "metadata": {},
   "outputs": [
    {
     "name": "stdout",
     "output_type": "stream",
     "text": [
      "ACCTCAGA\n"
     ]
    }
   ],
   "source": [
    "seq = 'ACcTCAGA'\n",
    "\n",
    "print(validateSeq(seq))"
   ]
  },
  {
   "cell_type": "markdown",
   "id": "detailed-genre",
   "metadata": {},
   "source": [
    "## Random sequence"
   ]
  },
  {
   "cell_type": "code",
   "execution_count": 5,
   "id": "studied-disclaimer",
   "metadata": {},
   "outputs": [],
   "source": [
    "RandSeq = ''.join([random.choice(Nucleotides) for nuc in range(20)])"
   ]
  },
  {
   "cell_type": "code",
   "execution_count": 6,
   "id": "silent-browse",
   "metadata": {},
   "outputs": [
    {
     "name": "stdout",
     "output_type": "stream",
     "text": [
      "TGGAAGTGAAACCCATCCCC\n"
     ]
    }
   ],
   "source": [
    "print(validateSeq(RandSeq))"
   ]
  },
  {
   "cell_type": "code",
   "execution_count": 7,
   "id": "received-disability",
   "metadata": {},
   "outputs": [],
   "source": [
    "ValidSeq = validateSeq(RandSeq)"
   ]
  },
  {
   "cell_type": "code",
   "execution_count": null,
   "id": "racial-rainbow",
   "metadata": {},
   "outputs": [],
   "source": []
  },
  {
   "cell_type": "markdown",
   "id": "mechanical-longer",
   "metadata": {},
   "source": [
    "## Count nucleotide frequency"
   ]
  },
  {
   "cell_type": "code",
   "execution_count": 8,
   "id": "decent-annex",
   "metadata": {},
   "outputs": [],
   "source": [
    "def CountNucFreq(seq):\n",
    "    tmpFreqDict = {'A':0, 'C':0, 'T':0, 'G':0}\n",
    "    for nuc in seq:\n",
    "        tmpFreqDict[nuc] += 1\n",
    "    return tmpFreqDict"
   ]
  },
  {
   "cell_type": "code",
   "execution_count": 9,
   "id": "sorted-coating",
   "metadata": {},
   "outputs": [
    {
     "name": "stdout",
     "output_type": "stream",
     "text": [
      "{'A': 6, 'C': 7, 'T': 3, 'G': 4}\n"
     ]
    }
   ],
   "source": [
    "print(CountNucFreq(ValidSeq))"
   ]
  },
  {
   "cell_type": "code",
   "execution_count": 10,
   "id": "distributed-affiliation",
   "metadata": {},
   "outputs": [],
   "source": [
    "def CountNucFreq(seq):\n",
    "    return dict(collections.Counter(seq))"
   ]
  },
  {
   "cell_type": "code",
   "execution_count": 11,
   "id": "married-child",
   "metadata": {},
   "outputs": [
    {
     "name": "stdout",
     "output_type": "stream",
     "text": [
      "{'T': 3, 'G': 4, 'A': 6, 'C': 7}\n"
     ]
    }
   ],
   "source": [
    "print(CountNucFreq(ValidSeq))"
   ]
  },
  {
   "cell_type": "markdown",
   "id": "terminal-pendant",
   "metadata": {},
   "source": [
    "## Transcription"
   ]
  },
  {
   "cell_type": "code",
   "execution_count": 12,
   "id": "functional-junior",
   "metadata": {},
   "outputs": [],
   "source": [
    "def transcribe(seq):\n",
    "    return seq.replace(\"T\",\"U\")"
   ]
  },
  {
   "cell_type": "code",
   "execution_count": 13,
   "id": "awful-iraqi",
   "metadata": {},
   "outputs": [
    {
     "name": "stdout",
     "output_type": "stream",
     "text": [
      "UGGAAGUGAAACCCAUCCCC\n"
     ]
    }
   ],
   "source": [
    "print(transcribe(ValidSeq))"
   ]
  },
  {
   "cell_type": "code",
   "execution_count": 64,
   "id": "ultimate-screw",
   "metadata": {},
   "outputs": [
    {
     "name": "stdout",
     "output_type": "stream",
     "text": [
      "Sequence TGGAAGTGAAACCCATCCCC\n",
      "Sequence Lenght 20\n",
      "Nucleotide Frequency {'T': 3, 'G': 4, 'A': 6, 'C': 7}\n",
      "DNA to RNA transcription UGGAAGUGAAACCCAUCCCC\n",
      "DNA string + reverse \n",
      "5' TGGAAGTGAAACCCATCCCC 3'\n",
      "   ||||||||||||||||||||\n",
      "3' GGGGATGGGTTTCACTTCCA 5'\n"
     ]
    }
   ],
   "source": [
    "print('Sequence', (ValidSeq))\n",
    "print('Sequence Lenght', (len(ValidSeq)))\n",
    "print('Nucleotide Frequency', (CountNucFreq(ValidSeq)))\n",
    "print(\"DNA to RNA transcription\", (transcribe(ValidSeq)))\n",
    "\n",
    "print('DNA string + reverse', '\\n' \"5'\", (ValidSeq), \"3'\")\n",
    "print(\"  \", ''.join(['|' for c in range(len(ValidSeq))]))\n",
    "print(\"3'\", reverse(ValidSeq), \"5'\")"
   ]
  },
  {
   "cell_type": "markdown",
   "id": "floppy-contractor",
   "metadata": {},
   "source": [
    "## Reverse complement\n"
   ]
  },
  {
   "cell_type": "code",
   "execution_count": 21,
   "id": "sapphire-compatibility",
   "metadata": {},
   "outputs": [],
   "source": [
    "DNAreverse = {'A':'T', 'T':'A', 'C':'G', 'G':'C'}"
   ]
  },
  {
   "cell_type": "code",
   "execution_count": 22,
   "id": "broadband-sessions",
   "metadata": {},
   "outputs": [],
   "source": [
    "def reverse(seq):\n",
    "    return ''.join([DNAreverse[nuc] for nuc in seq]) [::-1]"
   ]
  },
  {
   "cell_type": "code",
   "execution_count": 23,
   "id": "minus-consolidation",
   "metadata": {},
   "outputs": [
    {
     "data": {
      "text/plain": [
       "'GGGGATGGGTTTCACTTCCA'"
      ]
     },
     "execution_count": 23,
     "metadata": {},
     "output_type": "execute_result"
    }
   ],
   "source": [
    "reverse(ValidSeq)"
   ]
  },
  {
   "cell_type": "code",
   "execution_count": 24,
   "id": "southern-programmer",
   "metadata": {},
   "outputs": [
    {
     "name": "stdout",
     "output_type": "stream",
     "text": [
      "TGGAAGTGAAACCCATCCCC\n"
     ]
    }
   ],
   "source": [
    "print(ValidSeq)"
   ]
  },
  {
   "cell_type": "code",
   "execution_count": 28,
   "id": "novel-brake",
   "metadata": {},
   "outputs": [
    {
     "name": "stdout",
     "output_type": "stream",
     "text": [
      "TSET\n"
     ]
    }
   ],
   "source": [
    "tempstr = 'TEST'\n",
    "\n",
    "print(tempstr[::-1]) # reverses the string"
   ]
  },
  {
   "cell_type": "markdown",
   "id": "minor-behalf",
   "metadata": {},
   "source": []
  },
  {
   "cell_type": "code",
   "execution_count": 65,
   "id": "reduced-raleigh",
   "metadata": {},
   "outputs": [],
   "source": []
  },
  {
   "cell_type": "code",
   "execution_count": null,
   "id": "alpha-thinking",
   "metadata": {},
   "outputs": [],
   "source": []
  }
 ],
 "metadata": {
  "kernelspec": {
   "display_name": "Python 3",
   "language": "python",
   "name": "python3"
  },
  "language_info": {
   "codemirror_mode": {
    "name": "ipython",
    "version": 3
   },
   "file_extension": ".py",
   "mimetype": "text/x-python",
   "name": "python",
   "nbconvert_exporter": "python",
   "pygments_lexer": "ipython3",
   "version": "3.8.8"
  }
 },
 "nbformat": 4,
 "nbformat_minor": 5
}
